{
 "cells": [
  {
   "cell_type": "code",
   "execution_count": 42,
   "metadata": {},
   "outputs": [],
   "source": [
    "from typing import Callable\n",
    "import numpy as np\n",
    "from scipy.special import comb\n",
    "import matplotlib.pyplot as plt\n",
    "import seaborn as sns"
   ]
  },
  {
   "cell_type": "code",
   "execution_count": 79,
   "metadata": {},
   "outputs": [],
   "source": [
    "# expectation\n",
    "def E(X: np.array, p_dist: Callable) -> float:\n",
    "    return sum(X * p_dist(X))\n",
    "\n",
    "# variance\n",
    "def V(X: np.array, Ex: float) -> float:\n",
    "    return E((X - Ex ** 2))\n",
    "\n",
    "# standard deviation\n",
    "def SD(X: np.array, Var: float) -> float:\n",
    "    return np.sqrt(Var)\n",
    "\n",
    "def moment(X, r):\n",
    "    pass\n",
    "\n",
    "# hypergeometric distribution\n",
    "def hypergeometric_dist(\n",
    "        x: np.array,\n",
    "        N: int = 1000,\n",
    "        M: int = 200, n:\n",
    "        int = 5\n",
    "    ) -> np.array:\n",
    "    return (comb(M, x) * comb(N - M, n - x)) / comb(N, n)\n",
    "\n",
    "# multinomial distribution\n",
    "def multinomial_dist(x: np.array):\n",
    "    pass\n",
    "             \n",
    "# bernoulli distribution\n",
    "def bernoulli_dist(x: np.array, mu: float) -> np.array:\n",
    "    return (mu ** x) * (1 - mu) ** (1 - x)\n",
    "\n",
    "# binomial distribution\n",
    "def binomial_dist(x: np.array, n: int) -> np.array:\n",
    "    return "
   ]
  },
  {
   "cell_type": "code",
   "execution_count": 93,
   "metadata": {},
   "outputs": [
    {
     "data": {
      "text/plain": [
       "<matplotlib.axes._subplots.AxesSubplot at 0x116cf2cc0>"
      ]
     },
     "execution_count": 93,
     "metadata": {},
     "output_type": "execute_result"
    },
    {
     "data": {
      "image/png": "[encoded data removed]",
      "text/plain": [
       "<Figure size 432x288 with 1 Axes>"
      ]
     },
     "metadata": {},
     "output_type": "display_data"
    }
   ],
   "source": [
    "X = np.arange(1, 10, 0.1) \n",
    "sns.distplot(bernoulli_dist(X, 0.4), bins=10)"
   ]
  }
 ],
 "metadata": {
  "kernelspec": {
   "display_name": "Python 3",
   "language": "python",
   "name": "python3"
  },
  "language_info": {
   "codemirror_mode": {
    "name": "ipython",
    "version": 3
   },
   "file_extension": ".py",
   "mimetype": "text/x-python",
   "name": "python",
   "nbconvert_exporter": "python",
   "pygments_lexer": "ipython3",
   "version": "3.7.0"
  },
  "latex_envs": {
   "LaTeX_envs_menu_present": true,
   "autoclose": false,
   "autocomplete": true,
   "bibliofile": "biblio.bib",
   "cite_by": "apalike",
   "current_citInitial": 1,
   "eqLabelWithNumbers": true,
   "eqNumInitial": 1,
   "hotkeys": {
    "equation": "Ctrl-E",
    "itemize": "Ctrl-I"
   },
   "labels_anchors": false,
   "latex_user_defs": false,
   "report_style_numbering": false,
   "user_envs_cfg": false
  },
  "varInspector": {
   "cols": {
    "lenName": 16,
    "lenType": 16,
    "lenVar": 40
   },
   "kernels_config": {
    "python": {
     "delete_cmd_postfix": "",
     "delete_cmd_prefix": "del ",
     "library": "var_list.py",
     "varRefreshCmd": "print(var_dic_list())"
    },
    "r": {
     "delete_cmd_postfix": ") ",
     "delete_cmd_prefix": "rm(",
     "library": "var_list.r",
     "varRefreshCmd": "cat(var_dic_list()) "
    }
   },
   "types_to_exclude": [
    "module",
    "function",
    "builtin_function_or_method",
    "instance",
    "_Feature"
   ],
   "window_display": false
  }
 },
 "nbformat": 4,
 "nbformat_minor": 2
}
